{
  "nbformat": 4,
  "nbformat_minor": 0,
  "metadata": {
    "colab": {
      "provenance": [],
      "authorship_tag": "ABX9TyN6/kGNeJYCiAZ+bEtKzQ88",
      "include_colab_link": true
    },
    "kernelspec": {
      "name": "python3",
      "display_name": "Python 3"
    },
    "language_info": {
      "name": "python"
    }
  },
  "cells": [
    {
      "cell_type": "markdown",
      "metadata": {
        "id": "view-in-github",
        "colab_type": "text"
      },
      "source": [
        "<a href=\"https://colab.research.google.com/github/dudcoco/machine_deep_learning/blob/main/numpy%EC%84%A4%EB%AA%85.ipynb\" target=\"_parent\"><img src=\"https://colab.research.google.com/assets/colab-badge.svg\" alt=\"Open In Colab\"/></a>"
      ]
    },
    {
      "cell_type": "code",
      "execution_count": 2,
      "metadata": {
        "colab": {
          "base_uri": "https://localhost:8080/",
          "height": 0
        },
        "id": "-FO3945bbhLh",
        "outputId": "65fb04e9-cc21-40d5-d0ad-44f23a4adbfd"
      },
      "outputs": [
        {
          "output_type": "stream",
          "name": "stdout",
          "text": [
            "[1. 4. 5. 8.]\n",
            "[1 4 5 8]\n",
            "<class 'numpy.int64'>\n"
          ]
        }
      ],
      "source": [
        "import numpy as np\n",
        "arr = np.array([1,4,5,8], float)\n",
        "print(arr) # 출력 결과가 [1., 4,, 5., 8] 인 이유: 실수형이기 때문에 뒤에 소수점이 붙는다\n",
        "\n",
        "arr = np.array([1,4,5,8]) # 매개변수2에 자료형을 주지 않아도 배열 생성가능\n",
        "print(arr)\n",
        "print(type(arr[0])) # 여기선 int 형으로 생성된다"
      ]
    },
    {
      "cell_type": "code",
      "source": [
        "print(type(arr[3]))\n",
        "# 넘파이 배열 요소의 타입을 알아낼 땐 type(배열명[인덱스])\n",
        "print(type(arr))\n",
        "# 넘파이 배열 타입 확인할 땐 type(배열명)"
      ],
      "metadata": {
        "colab": {
          "base_uri": "https://localhost:8080/",
          "height": 0
        },
        "id": "RtE3XZZ6b0CK",
        "outputId": "63dbf74c-e363-448d-c81f-0d45e7097642"
      },
      "execution_count": 3,
      "outputs": [
        {
          "output_type": "stream",
          "name": "stdout",
          "text": [
            "<class 'numpy.int64'>\n",
            "<class 'numpy.ndarray'>\n"
          ]
        }
      ]
    },
    {
      "cell_type": "markdown",
      "source": [
        "### 넘파이 배열, 파이썬 리스트 차이점\n",
        "- 넘파이 배열 : 동일 데이터 타입만 사용가능, 액세스 빠름\n",
        "- 파이썬 리스트 : 데이터 타입이 달라도 사용가능, 액세스 느림"
      ],
      "metadata": {
        "id": "IaehJGQycXJE"
      }
    },
    {
      "cell_type": "code",
      "source": [
        "# 배열 생성하기\n",
        "arr = np.array([1,4,5,\"8\"], float) # 배열을 실수형으로 선언\n",
        "print(arr) # 출력 결과 모두 실수형임"
      ],
      "metadata": {
        "colab": {
          "base_uri": "https://localhost:8080/",
          "height": 0
        },
        "id": "kRQM8m0ecDqX",
        "outputId": "57b2345f-4cc6-4833-ca5a-debc88dc082d"
      },
      "execution_count": 4,
      "outputs": [
        {
          "output_type": "stream",
          "name": "stdout",
          "text": [
            "[1. 4. 5. 8.]\n"
          ]
        }
      ]
    },
    {
      "cell_type": "code",
      "source": [
        "print(type(arr[3])) # 배열 인덱스3 요소에는 \"8\"이라는 문자형 데이터 값을 주었지만 실수형으로 자동 형변환 되었음"
      ],
      "metadata": {
        "colab": {
          "base_uri": "https://localhost:8080/",
          "height": 0
        },
        "id": "RxE5_t7_ds88",
        "outputId": "310fcccd-8306-411c-812b-7b50a508bae4"
      },
      "execution_count": 5,
      "outputs": [
        {
          "output_type": "stream",
          "name": "stdout",
          "text": [
            "<class 'numpy.float64'>\n"
          ]
        }
      ]
    },
    {
      "cell_type": "code",
      "source": [
        "print(arr.dtype)\n",
        "\n",
        "# dtype : 배열 전체의 데이터 타입을 반환해줌\n",
        "# 사용법 : 배열명.dtype"
      ],
      "metadata": {
        "colab": {
          "base_uri": "https://localhost:8080/",
          "height": 0
        },
        "id": "v5btPtI3dzmX",
        "outputId": "e1321788-dc24-4328-c85b-94f0c3d2dc11"
      },
      "execution_count": 6,
      "outputs": [
        {
          "output_type": "stream",
          "name": "stdout",
          "text": [
            "float64\n"
          ]
        }
      ]
    },
    {
      "cell_type": "code",
      "source": [
        "print(arr.shape)\n",
        "\n",
        "# shape : 배열의 구조를 반환해줌\n",
        "# 사용법 : 배열명.shape"
      ],
      "metadata": {
        "colab": {
          "base_uri": "https://localhost:8080/",
          "height": 0
        },
        "id": "yAcyMzFXeIqi",
        "outputId": "24f9af2f-1c1a-4f4c-f810-8e61f81cc396"
      },
      "execution_count": 7,
      "outputs": [
        {
          "output_type": "stream",
          "name": "stdout",
          "text": [
            "(4,)\n"
          ]
        }
      ]
    },
    {
      "cell_type": "code",
      "source": [
        "\"\"\" 배열의 구조 \"\"\"\n",
        "\n",
        "mat = np.array([1,2,5,8], int)\n",
        "print(mat.shape) # 1행 4열으로 이루어진 배열. 튜플 형태로 구조 출력됨 (열, )\n",
        "\n",
        "mat = np.array([[1,2,5,8], [1,2,3,4]], int)\n",
        "print(mat.shape) # 2행 4열으로 이루어진 배열. 튜플 형태로 구조 출력됨 (행, 열)\n",
        "\n",
        "mat = np.array([\n",
        "    [[1,2],[4,5],[7,8]],\n",
        "    [[1,2],[4,5],[7,8]],\n",
        "    [[1,2],[4,5],[7,8]]], int)\n",
        "print(mat.shape) # 3차원 3행 2열으로 이루어진 배열. 튜플 형태로 구조 출력됨 (차원, 행, 열)\n",
        "print(mat)\n"
      ],
      "metadata": {
        "colab": {
          "base_uri": "https://localhost:8080/",
          "height": 0
        },
        "id": "K3JSB3GNeYwH",
        "outputId": "70ba524f-dfa2-4b13-84ed-df5dc0ce5761"
      },
      "execution_count": 8,
      "outputs": [
        {
          "output_type": "stream",
          "name": "stdout",
          "text": [
            "(4,)\n",
            "(2, 4)\n",
            "(3, 3, 2)\n",
            "[[[1 2]\n",
            "  [4 5]\n",
            "  [7 8]]\n",
            "\n",
            " [[1 2]\n",
            "  [4 5]\n",
            "  [7 8]]\n",
            "\n",
            " [[1 2]\n",
            "  [4 5]\n",
            "  [7 8]]]\n"
          ]
        }
      ]
    },
    {
      "cell_type": "code",
      "source": [
        "\"\"\" dtype \"\"\"\n",
        "# 매개변수 dtype으로 넘파이 배열의 데이터 타입 저장. 변수가 사용하는 메모리 크기가 정해짐\n",
        "\n",
        "arr1 = np.array([[1,2,3.5], [4,5,6.5]], dtype=int) # 결과 : 데이터 타입(dtype)을 int(정수형)으로 지정했기 때문에 3.5나 6.5같은 실수형도 정수형으로 형 변환이 되어서 저장됨\n",
        "print(arr1)\n",
        "\n",
        "arr2 = np.array([[1,2,3.5], [4,5,6.5]], dtype=float) # 결과 : 데이터 타입을 실수형으로 지정했기 때문에 정수형도 실수형으로 형변환 되어서 저장됨\n",
        "print(arr2)"
      ],
      "metadata": {
        "colab": {
          "base_uri": "https://localhost:8080/",
          "height": 0
        },
        "id": "pF7bREw-fMZI",
        "outputId": "72e527e5-1615-44ef-e6f5-4b46529f6ee1"
      },
      "execution_count": 9,
      "outputs": [
        {
          "output_type": "stream",
          "name": "stdout",
          "text": [
            "[[1 2 3]\n",
            " [4 5 6]]\n",
            "[[1.  2.  3.5]\n",
            " [4.  5.  6.5]]\n"
          ]
        }
      ]
    },
    {
      "cell_type": "code",
      "source": [
        "import sys\n",
        "arr = np.array([[1,2,3.5], [4,5,6.5]], dtype=np.float64).itemsize\n",
        "print(arr)\n",
        "\n",
        "# itemsize : 넘파이 배열에서 각 요소가 차지하는 바이트 확인\n",
        "# np.float64로 dtype을 선언하면 64비트, 즉 1요소당 8바이트를 차지\n",
        "# np.float32로 dtype을 선언하면 32비트, 즉 1요소당 4바이트를 차지\n",
        "\n",
        "arr = np.array([[1,2,3,4], [5,6,7,8]], dtype=np.float64).itemsize\n",
        "print(arr)"
      ],
      "metadata": {
        "colab": {
          "base_uri": "https://localhost:8080/",
          "height": 0
        },
        "id": "Fwf1POMKgsWl",
        "outputId": "17c22b73-a405-4374-821d-77567580c7d6"
      },
      "execution_count": 10,
      "outputs": [
        {
          "output_type": "stream",
          "name": "stdout",
          "text": [
            "8\n",
            "8\n"
          ]
        }
      ]
    },
    {
      "cell_type": "markdown",
      "source": [
        "### 배열의 구조 다루기\n",
        "- reshape 함수 : 배열의 구조를 변경하고 랭크를 조절. __반드시 전체 요소 개수는 통일__\n",
        "- 사용법\n",
        "++ 배열명.reshape(차원, 행, 열)\n",
        "++ 배열명.reshape(행, 열)\n",
        "++ 배열명.reshape(-1,) : 전체 요소 개수만큼의 행을 가진 배열을 만듦\n",
        "++ 배열명.reshape(행, -1) : 행 개수 지정하고 그에 맞게 열 개수도 자동으로 지정하게 함\n",
        "\n",
        "\n",
        "* -1 사용: 나머지 차원의 크기를 지정했을 때 전체 요소의 개수를 고려하여 마지막 차원이 자동 지정됨"
      ],
      "metadata": {
        "id": "m0UfFFyPkTjl"
      }
    },
    {
      "cell_type": "code",
      "source": [
        "x = np.array([[1,2,3,4], [1,2,3,4]])\n",
        "print(x)\n",
        "print(x.shape) # 현재는 2*4\n",
        "print(\"=\"*20)\n",
        "\n",
        "x = x.reshape(-1, ) # 전체 요소 개수만큼의 행을 가진 배열을 만듦\n",
        "print(x)\n",
        "print(x.shape)"
      ],
      "metadata": {
        "colab": {
          "base_uri": "https://localhost:8080/",
          "height": 0
        },
        "id": "MVwZOfshjZGT",
        "outputId": "431749f7-dfc4-44cd-c4c5-f19a5577b2cf"
      },
      "execution_count": 11,
      "outputs": [
        {
          "output_type": "stream",
          "name": "stdout",
          "text": [
            "[[1 2 3 4]\n",
            " [1 2 3 4]]\n",
            "(2, 4)\n",
            "====================\n",
            "[1 2 3 4 1 2 3 4]\n",
            "(8,)\n"
          ]
        }
      ]
    },
    {
      "cell_type": "code",
      "source": [
        "# range : 범위 지정\n",
        "x = np.array(range(8)) # 0~7 범위의 값을 가진 배열을 생성\n",
        "x"
      ],
      "metadata": {
        "colab": {
          "base_uri": "https://localhost:8080/",
          "height": 0
        },
        "id": "ho2tEdSblnRy",
        "outputId": "26488658-2ca8-4f4a-a520-121f0d633bf6"
      },
      "execution_count": 12,
      "outputs": [
        {
          "output_type": "execute_result",
          "data": {
            "text/plain": [
              "array([0, 1, 2, 3, 4, 5, 6, 7])"
            ]
          },
          "metadata": {},
          "execution_count": 12
        }
      ]
    },
    {
      "cell_type": "code",
      "source": [
        "x.reshape(2,2) # 2*2 배열로 재구성하려고 하지만, 전체 요소 개수가 8개인데에 반해 2*2배열은 요소개수가 4개임. 전체 개수가 맞지 않아 에러발생\n",
        "print(x)"
      ],
      "metadata": {
        "colab": {
          "base_uri": "https://localhost:8080/",
          "height": 204
        },
        "id": "4-unnDFsmAkA",
        "outputId": "46aa8841-a5f6-44d8-8a0f-ec9123d1ff10"
      },
      "execution_count": 13,
      "outputs": [
        {
          "output_type": "error",
          "ename": "ValueError",
          "evalue": "ignored",
          "traceback": [
            "\u001b[0;31m---------------------------------------------------------------------------\u001b[0m",
            "\u001b[0;31mValueError\u001b[0m                                Traceback (most recent call last)",
            "\u001b[0;32m<ipython-input-13-925efc53fa87>\u001b[0m in \u001b[0;36m<cell line: 1>\u001b[0;34m()\u001b[0m\n\u001b[0;32m----> 1\u001b[0;31m \u001b[0mx\u001b[0m\u001b[0;34m.\u001b[0m\u001b[0mreshape\u001b[0m\u001b[0;34m(\u001b[0m\u001b[0;36m2\u001b[0m\u001b[0;34m,\u001b[0m\u001b[0;36m2\u001b[0m\u001b[0;34m)\u001b[0m \u001b[0;31m# 2*2 배열로 재구성하려고 하지만, 전체 요소 개수가 8개인데에 반해 2*2배열은 요소개수가 4개임. 전체 개수가 맞지 않아 에러발생\u001b[0m\u001b[0;34m\u001b[0m\u001b[0;34m\u001b[0m\u001b[0m\n\u001b[0m\u001b[1;32m      2\u001b[0m \u001b[0mprint\u001b[0m\u001b[0;34m(\u001b[0m\u001b[0mx\u001b[0m\u001b[0;34m)\u001b[0m\u001b[0;34m\u001b[0m\u001b[0;34m\u001b[0m\u001b[0m\n",
            "\u001b[0;31mValueError\u001b[0m: cannot reshape array of size 8 into shape (2,2)"
          ]
        }
      ]
    },
    {
      "cell_type": "code",
      "source": [
        "x = np.array(range(8)).reshape(4,2)\n",
        "print(x)\n",
        "print(\"=\"*20)\n",
        "\n",
        "# -1 사용\n",
        "x = x.reshape(2, -1) # 2행으로 정하고, 2행에 맞춰서 열을 정의\n",
        "print(x)\n",
        "print(\"=\"*20)\n",
        "\n",
        "x = x.reshape(2, 2, -1) # 2차원 2행으로 정하고 나머지 열은 이 두 개에 맞춰서 정의. 전체 요소가 8개이므로 2*2*2가 되어야함\n",
        "print(x)"
      ],
      "metadata": {
        "colab": {
          "base_uri": "https://localhost:8080/",
          "height": 0
        },
        "id": "PrX_gVsKmNYz",
        "outputId": "a7854de6-fe4c-44fa-9f03-51b370e71427"
      },
      "execution_count": 14,
      "outputs": [
        {
          "output_type": "stream",
          "name": "stdout",
          "text": [
            "[[0 1]\n",
            " [2 3]\n",
            " [4 5]\n",
            " [6 7]]\n",
            "====================\n",
            "[[0 1 2 3]\n",
            " [4 5 6 7]]\n",
            "====================\n",
            "[[[0 1]\n",
            "  [2 3]]\n",
            "\n",
            " [[4 5]\n",
            "  [6 7]]]\n"
          ]
        }
      ]
    },
    {
      "cell_type": "markdown",
      "source": [
        "## flatten 함수 : 데이터 그대로 __1차원__으로 변경\n",
        "- 데이터의 개수는 그대로 존재하고, 배열의 구조만 변함"
      ],
      "metadata": {
        "id": "mqXzMwqPnles"
      }
    },
    {
      "cell_type": "code",
      "source": [
        "x = np.array(range(8)).reshape(2,2,2)\n",
        "print(x)\n",
        "print(\"=\"*20)\n",
        "print(x.flatten())\n",
        "print(x.reshape(-1,)) # x.flatten()과 동일한 결과"
      ],
      "metadata": {
        "colab": {
          "base_uri": "https://localhost:8080/",
          "height": 0
        },
        "id": "c94wY7L3nIx9",
        "outputId": "f6d39b8d-ffe2-4659-cd13-756bfb88ef78"
      },
      "execution_count": 15,
      "outputs": [
        {
          "output_type": "stream",
          "name": "stdout",
          "text": [
            "[[[0 1]\n",
            "  [2 3]]\n",
            "\n",
            " [[4 5]\n",
            "  [6 7]]]\n",
            "====================\n",
            "[0 1 2 3 4 5 6 7]\n",
            "[0 1 2 3 4 5 6 7]\n"
          ]
        }
      ]
    },
    {
      "cell_type": "markdown",
      "source": [
        "## 인덱싱과 슬라이싱\n",
        "### 1. 인덱싱 : 리스트에 있는 값의 상대적인 주소로 값에 접근\n",
        "- 넘파이 배열의 인덱스 표현에는 ','을 지원함: [행][열] 또는 [행,열] 형태\n",
        "- 3차원 텐서 이상은 shape에서 출력되는 랭크 순서대로 인덱싱에 접근"
      ],
      "metadata": {
        "id": "iIJL9mewv5Zs"
      }
    },
    {
      "cell_type": "code",
      "source": [
        "x = np.array([[1,2,3], [4,5,6]], int)\n",
        "print(x)\n",
        "print(x[0][0]) # 1번째 행 1번째 열 요소\n",
        "print(x[0,2]) # 1번째 행 3번째 열 요소\n",
        "print(\"=\"*20)\n",
        "\n",
        "x[0,1] = 100 # 1번째 행 2번째 열 요소를 100으로 설정\n",
        "print(x)"
      ],
      "metadata": {
        "colab": {
          "base_uri": "https://localhost:8080/",
          "height": 0
        },
        "id": "U4zibvrYvLKT",
        "outputId": "af3013e3-0d42-49d2-c617-c7b61c51b41b"
      },
      "execution_count": 16,
      "outputs": [
        {
          "output_type": "stream",
          "name": "stdout",
          "text": [
            "[[1 2 3]\n",
            " [4 5 6]]\n",
            "1\n",
            "3\n",
            "====================\n",
            "[[  1 100   3]\n",
            " [  4   5   6]]\n"
          ]
        }
      ]
    },
    {
      "cell_type": "markdown",
      "source": [
        "### 2. 슬라이싱 : 인덱스를 사용하여 리스트의 일부를 잘라내어 반환\n",
        "- 넘파이 배열은 행과 열을 나누어 슬라이싱할 수 있음"
      ],
      "metadata": {
        "id": "DFS-7lBox0b2"
      }
    },
    {
      "cell_type": "code",
      "source": [
        "x = np.array([[1,2,3,4,5], [6,7,8,9,10]], int) # x는 2행 5열\n",
        "print(x[:, 2:]) # :는 행 전체, 2:는 인덱스 2부터 시작하는 열 전체\n",
        "print(\"=\"*20)\n",
        "\n",
        "print(x[1,1:3]) # 인덱스 1인 행, 인덱스 1~2인 열\n",
        "print(x[0,1:3]) # 인덱스 0인 행, 인덱스 1~2인 열\n",
        "print(x[1:3]) # 인덱스 1~2인 행. 근데 이 행렬은 2행짜리이므로 행 인덱스가 1까지밖에 없음. 그래서 이를 넘어가는 인덱스는 그냥 무시함 (에러 발생하지 않음)"
      ],
      "metadata": {
        "colab": {
          "base_uri": "https://localhost:8080/",
          "height": 0
        },
        "id": "alC6A4dfxloa",
        "outputId": "2e01dbff-1cdb-4d96-ed2f-3a2f31f58061"
      },
      "execution_count": 17,
      "outputs": [
        {
          "output_type": "stream",
          "name": "stdout",
          "text": [
            "[[ 3  4  5]\n",
            " [ 8  9 10]]\n",
            "====================\n",
            "[7 8]\n",
            "[2 3]\n",
            "[[ 6  7  8  9 10]]\n"
          ]
        }
      ]
    },
    {
      "cell_type": "code",
      "source": [
        "# 증가값(step) : 리스트에서 데이터의 요소를 호출할 때 데이터를 건너뛰면서 반환\n",
        "# [시작 인덱스:마지막 인덱스:증가값]\n",
        "# 각 랭크에 있는 요소별로 모두 적용 가능\n",
        "\n",
        "x = np.array(range(15), int).reshape(3, -1) # 3행 5열인 배열\n",
        "print(x)\n",
        "print(\"=\"*20)\n",
        "\n",
        "print(x[:,::2]) # 행 전체에서 증가값 2씩\n",
        "print(\"=\"*20)\n",
        "\n",
        "print(x[::2,::3]) # 열 전체에서 증가값 2씩, 행 전체에서 증가값 3씩\n",
        "\n",
        "\"\"\" 증가값은 [열, 행] 형태임!!!!!!!! 주의해라... \"\"\""
      ],
      "metadata": {
        "colab": {
          "base_uri": "https://localhost:8080/",
          "height": 223
        },
        "id": "cJQnqbc2yu7D",
        "outputId": "af8c0bbd-208f-4c1b-d172-f18a138ebbd5"
      },
      "execution_count": 18,
      "outputs": [
        {
          "output_type": "stream",
          "name": "stdout",
          "text": [
            "[[ 0  1  2  3  4]\n",
            " [ 5  6  7  8  9]\n",
            " [10 11 12 13 14]]\n",
            "====================\n",
            "[[ 0  2  4]\n",
            " [ 5  7  9]\n",
            " [10 12 14]]\n",
            "====================\n",
            "[[ 0  3]\n",
            " [10 13]]\n"
          ]
        },
        {
          "output_type": "execute_result",
          "data": {
            "text/plain": [
              "' 증가값은 [열, 행] 형태임!!!!!!!! 주의해라... '"
            ],
            "application/vnd.google.colaboratory.intrinsic+json": {
              "type": "string"
            }
          },
          "metadata": {},
          "execution_count": 18
        }
      ]
    },
    {
      "cell_type": "markdown",
      "source": [
        "## 배열 생성 함수\n",
        "### 1. arange() : range()와 같이 차례대로 값을 생성. (시작인덱스, 마지막인덱스, 증가값)\n",
        "- range()와 다르게 증가값에 실수형이 입력되어도 값 생성 가능\n",
        "- 소수점 값을 주기적으로 생성할 떄 유용"
      ],
      "metadata": {
        "id": "BOGda5D_3WFc"
      }
    },
    {
      "cell_type": "code",
      "source": [
        "print(np.arange(10)) # 0~9\n",
        "print(np.arange(-5,5)) # -5~4\n",
        "print(np.arange(0,5,0.5)) # 0~5 범위인데(5 포함 안됨) 증가값이 0.5씩"
      ],
      "metadata": {
        "colab": {
          "base_uri": "https://localhost:8080/",
          "height": 0
        },
        "id": "L0MntS9s0oem",
        "outputId": "721118b6-4190-4a0d-b5b2-94f9c272b752"
      },
      "execution_count": 19,
      "outputs": [
        {
          "output_type": "stream",
          "name": "stdout",
          "text": [
            "[0 1 2 3 4 5 6 7 8 9]\n",
            "[-5 -4 -3 -2 -1  0  1  2  3  4]\n",
            "[0.  0.5 1.  1.5 2.  2.5 3.  3.5 4.  4.5]\n"
          ]
        }
      ]
    },
    {
      "cell_type": "markdown",
      "source": [
        "### 2. ones. zeros, empty\n",
        "1) ones() : 1로만 구성된 넘파이 배열을 생성. 사전에 shape 값을 넣어서 원하는 크기의 넘파이 배열 생성\n",
        "<br>\n",
        "2) zeros() : 0으로만 구성된 넘파이 배열을 생성. 사전에 shape 값을 넣어서 원하는 크기의 넘파이 배열 생성\n",
        "<br>\n",
        "3) empty() : 활용 가능한 메모리공간 확보하여 반환.\n",
        "\n",
        "<br>\n",
        "\n",
        "ones(), zeros() : 먼저 shape의 크기만큼 메모리를 할당하고 그곳에 값을 채움. 해당 메모리 공간에 값이 남았을 경우에는 그 값을 함께 반환\n",
        "<br>\n",
        "emtpy() : 메모리 초기화를 하지 않아서 생성될 때마다 다른 값을 반환\n",
        "\n",
        "- 생성 시점에서 dtype 지정해주면 해당 데이터타입으로 배열 생성\n"
      ],
      "metadata": {
        "id": "r9ZcQ2Tx4D9I"
      }
    },
    {
      "cell_type": "code",
      "source": [
        "x = np.ones(shape=(5,2), dtype=np.int8) # 5행 2열 크기, 요소가 1로만 이루어진 배열 생성. 데이터 타입은 int8\n",
        "print(x)\n",
        "print(\"=\"*20)\n",
        "\n",
        "y = np.zeros(shape=(2,2), dtype=np.float32) # 2행 2열 크기. 요소가 0으로만 이루어진 배열 생성. 데이터 타입은 float32\n",
        "print(y)\n",
        "print(\"=\"*20)\n",
        "\n",
        "np.empty(shape=(2,4), dtype=np.float32) # 실수형으로 배열 생성됨. 좀 이상한데...? 찾아보기\n"
      ],
      "metadata": {
        "colab": {
          "base_uri": "https://localhost:8080/",
          "height": 0
        },
        "id": "4Ejo_4Va3qYJ",
        "outputId": "1b776423-ea74-4eaa-d609-c986158bc50d"
      },
      "execution_count": 20,
      "outputs": [
        {
          "output_type": "stream",
          "name": "stdout",
          "text": [
            "[[1 1]\n",
            " [1 1]\n",
            " [1 1]\n",
            " [1 1]\n",
            " [1 1]]\n",
            "====================\n",
            "[[0. 0.]\n",
            " [0. 0.]]\n",
            "====================\n"
          ]
        },
        {
          "output_type": "execute_result",
          "data": {
            "text/plain": [
              "array([[1.4e-45, 0.0e+00, 5.6e-45, 0.0e+00],\n",
              "       [7.0e-45, 0.0e+00, 1.1e-44, 0.0e+00]], dtype=float32)"
            ]
          },
          "metadata": {},
          "execution_count": 20
        }
      ]
    },
    {
      "cell_type": "markdown",
      "source": [
        "### 3. ones_like(배열명), zeros_like(배열명), empty_like(배열명) - (잘 안쓰임)\n",
        "1) ones_like : 기존 넘파이 배열과 같은 크기로 만들어 내용을 1로 채움\n",
        "<br>\n",
        "2) zeros_like : 기존 넘파이 배열과 같은 크기로 만들어 내용을 0으로 채움\n",
        "<br>\n",
        "3) empty_like : 기존 넘파이 배열과 같은 크기로 만들어 빈 상태로 *만듦*"
      ],
      "metadata": {
        "id": "W2oJPCZz6eh5"
      }
    },
    {
      "cell_type": "code",
      "source": [
        "x = np.arange(12).reshape(3,4) # 0~11 까지 값으로 3행 4열의 배열 생성\n",
        "print(x)\n",
        "print(\"=\"*20)\n",
        "\n",
        "print(np.ones_like(x))\n",
        "print(\"=\"*20)\n",
        "print(np.zeros_like(x))\n",
        "print(\"=\"*20)\n",
        "print(np.empty_like(x))"
      ],
      "metadata": {
        "colab": {
          "base_uri": "https://localhost:8080/",
          "height": 0
        },
        "id": "w6xuR5eW5fdz",
        "outputId": "2766af15-3ded-427f-b788-68425aa1800c"
      },
      "execution_count": 21,
      "outputs": [
        {
          "output_type": "stream",
          "name": "stdout",
          "text": [
            "[[ 0  1  2  3]\n",
            " [ 4  5  6  7]\n",
            " [ 8  9 10 11]]\n",
            "====================\n",
            "[[1 1 1 1]\n",
            " [1 1 1 1]\n",
            " [1 1 1 1]]\n",
            "====================\n",
            "[[0 0 0 0]\n",
            " [0 0 0 0]\n",
            " [0 0 0 0]]\n",
            "====================\n",
            "[[0 0 0 0]\n",
            " [0 0 0 0]\n",
            " [0 0 0 0]]\n"
          ]
        }
      ]
    },
    {
      "cell_type": "markdown",
      "source": [
        "### 4. identity(n, dtype), eye(행개수 N, 열개수 M, 시작인덱스 k), diag(행렬명)\n",
        "1) identity : n*n 단위행렬 생성\n",
        "<br>\n",
        "2) eye : 시작점과 행렬 크기를 지정, 단위행렬 생성. 자주 쓰이진 않음\n",
        "<br>\n",
        "3) diag : 행렬의 대각성분 값을 추출"
      ],
      "metadata": {
        "id": "o32h51Ze8VhM"
      }
    },
    {
      "cell_type": "code",
      "source": [
        "# identity\n",
        "print(np.identity(n=3, dtype=int))\n",
        "print(\"=\"*20)\n",
        "print(np.identity(n=4, dtype=int))\n",
        "print(\"=\"*20)\n",
        "\n",
        "# eye\n",
        "print(np.eye(N=3, M=5)) # 3행 5열\n",
        "print(\"=\"*20)\n",
        "print(np.eye(N=3, M=5, k=2)) # k는 열의 값을 기준으로 시작 인덱스. 인덱스 2인 열부터 단위행렬 만들기\n",
        "print(\"=\"*20)\n",
        "\n",
        "# diag\n",
        "mat = np.arange(9).reshape(3,3)\n",
        "print(mat)\n",
        "print(\"=\"*20)\n",
        "print(np.diag(mat))\n",
        "print(\"=\"*20)\n",
        "print(np.diag(mat, k=1)) # k는 열의 값을 기준으로 시작 인덱스. 인덱스 1인 열부터 대각성분 값 추출"
      ],
      "metadata": {
        "colab": {
          "base_uri": "https://localhost:8080/",
          "height": 0
        },
        "id": "DAWDz-f87NAk",
        "outputId": "b1c7a5f9-9b71-4b7d-b8fa-6e553002b5de"
      },
      "execution_count": 22,
      "outputs": [
        {
          "output_type": "stream",
          "name": "stdout",
          "text": [
            "[[1 0 0]\n",
            " [0 1 0]\n",
            " [0 0 1]]\n",
            "====================\n",
            "[[1 0 0 0]\n",
            " [0 1 0 0]\n",
            " [0 0 1 0]\n",
            " [0 0 0 1]]\n",
            "====================\n",
            "[[1. 0. 0. 0. 0.]\n",
            " [0. 1. 0. 0. 0.]\n",
            " [0. 0. 1. 0. 0.]]\n",
            "====================\n",
            "[[0. 0. 1. 0. 0.]\n",
            " [0. 0. 0. 1. 0.]\n",
            " [0. 0. 0. 0. 1.]]\n",
            "====================\n",
            "[[0 1 2]\n",
            " [3 4 5]\n",
            " [6 7 8]]\n",
            "====================\n",
            "[0 4 8]\n",
            "====================\n",
            "[1 5]\n"
          ]
        }
      ]
    },
    {
      "cell_type": "markdown",
      "source": [
        "## 통계 분석 함수\n",
        "1) uniform 함수 : 균등분포 함수\n",
        "- np.random.uniform(시작값, 끝값, 데이터개수)\n",
        "\n",
        "2) normal 함수 : 정규분포 함수\n",
        "- np.random.normal(평균값, 분산, 데이터개수)"
      ],
      "metadata": {
        "id": "Mae9gI-W-Rub"
      }
    },
    {
      "cell_type": "code",
      "source": [
        "# uniform\n",
        "print(np.random.uniform(0,5,10)) # 범위 0~5, 10개\n",
        "print(\"=\"*20)\n",
        "\n",
        "# normal\n",
        "print(np.random.normal(0,2,10)) # 평균 0, 분산 2, 데이터 10개"
      ],
      "metadata": {
        "colab": {
          "base_uri": "https://localhost:8080/",
          "height": 0
        },
        "id": "f2yS36Jn9TsF",
        "outputId": "8a2c96c1-89d1-4a73-e034-947db96202dd"
      },
      "execution_count": 23,
      "outputs": [
        {
          "output_type": "stream",
          "name": "stdout",
          "text": [
            "[2.24229092 1.89308348 3.19568124 0.99092282 2.77999226 0.40703499\n",
            " 0.10623164 0.8240065  3.72347434 2.17045001]\n",
            "====================\n",
            "[-1.38926323  0.62222263  0.99735957 -1.87507119 -1.15958337  0.40379932\n",
            "  2.11934422 -1.9734347   0.06798457 -1.8454191 ]\n"
          ]
        }
      ]
    },
    {
      "cell_type": "markdown",
      "source": [
        "# 넘파이 배열 연산\n",
        "## 연산 함수 : 배열 내부 연산을 지원하는 함수\n",
        "- 축(axis) : 배열의 랭크가 증가할 때마다 새로운 축이 추가되어 차원이 증가\n",
        "- sum 함수 : 각 요소의 합을 반환"
      ],
      "metadata": {
        "id": "zVF8yzEL_37q"
      }
    },
    {
      "cell_type": "code",
      "source": [
        "import numpy as np\n",
        "arr = np.arange(1, 11) # 1부터 10의 요소를 가지는 배열\n",
        "print(arr)\n",
        "print(arr.sum()) #"
      ],
      "metadata": {
        "colab": {
          "base_uri": "https://localhost:8080/",
          "height": 0
        },
        "id": "kK4IKC2n_2we",
        "outputId": "2e84f0ca-86b3-4bbe-b7bb-9d5fc505fb7b"
      },
      "execution_count": 24,
      "outputs": [
        {
          "output_type": "stream",
          "name": "stdout",
          "text": [
            "[ 1  2  3  4  5  6  7  8  9 10]\n",
            "55\n"
          ]
        }
      ]
    },
    {
      "cell_type": "code",
      "source": [
        "arr = np.arange(1,13).reshape(3,4) # 1~12까지의 값, 3행 4열\n",
        "print(arr)\n",
        "print(\"=\"*20)\n",
        "\n",
        "print(arr.sum(axis=0)) # axis=0 : 열을 축으로\n",
        "print(\"=\"*20)\n",
        "print(arr.sum(axis=1)) # axis=1 : 행을 축으로"
      ],
      "metadata": {
        "colab": {
          "base_uri": "https://localhost:8080/",
          "height": 0
        },
        "id": "OkrL-H8DAOq4",
        "outputId": "f176d496-1949-4fab-f8be-b545f72a35b9"
      },
      "execution_count": 25,
      "outputs": [
        {
          "output_type": "stream",
          "name": "stdout",
          "text": [
            "[[ 1  2  3  4]\n",
            " [ 5  6  7  8]\n",
            " [ 9 10 11 12]]\n",
            "====================\n",
            "[15 18 21 24]\n",
            "====================\n",
            "[10 26 42]\n"
          ]
        }
      ]
    },
    {
      "cell_type": "code",
      "source": [
        "arr = np.arange(1,13).reshape(3,4)\n",
        "third = np.array([arr,arr,arr])\n",
        "print(third)\n",
        "print(\"=\"*20)\n",
        "print(third.sum(axis=0)) # 차원을 축으로해서 합\n",
        "print(\"=\"*20)\n",
        "print(third.sum(axis=1)) # 열을 축으로해서 합\n",
        "print(\"=\"*20)\n",
        "print(third.sum(axis=2)) # 행을 축으로해서 합\n",
        "\n",
        "# axis 주의하자!!!!!!!!!!!"
      ],
      "metadata": {
        "id": "yPNUHonCBDuT",
        "colab": {
          "base_uri": "https://localhost:8080/",
          "height": 0
        },
        "outputId": "312b26db-eccf-4946-c023-48d298a3f342"
      },
      "execution_count": 27,
      "outputs": [
        {
          "output_type": "stream",
          "name": "stdout",
          "text": [
            "[[[ 1  2  3  4]\n",
            "  [ 5  6  7  8]\n",
            "  [ 9 10 11 12]]\n",
            "\n",
            " [[ 1  2  3  4]\n",
            "  [ 5  6  7  8]\n",
            "  [ 9 10 11 12]]\n",
            "\n",
            " [[ 1  2  3  4]\n",
            "  [ 5  6  7  8]\n",
            "  [ 9 10 11 12]]]\n",
            "====================\n",
            "[[ 3  6  9 12]\n",
            " [15 18 21 24]\n",
            " [27 30 33 36]]\n",
            "====================\n",
            "[[15 18 21 24]\n",
            " [15 18 21 24]\n",
            " [15 18 21 24]]\n",
            "====================\n",
            "[[10 26 42]\n",
            " [10 26 42]\n",
            " [10 26 42]]\n"
          ]
        }
      ]
    },
    {
      "cell_type": "code",
      "source": [
        "arr = np.arange(1,13).reshape(3,4) # 3행 4열\n",
        "print(arr)\n",
        "print(\"=\"*20)\n",
        "\n",
        "print(arr.mean(axis=1)) # axis=1 축(여기선 행)을 기준으로 평균 계산\n",
        "print(\"=\"*20)\n",
        "\n",
        "print(arr.std()) # 전체 값에 대한 표준편차 계산\n",
        "print(\"=\"*20)\n",
        "\n",
        "print(arr.std(axis=0)) # axis=0 축(여기선 열)을 기준으로 표준편차 계산\n",
        "print(\"=\"*20)\n",
        "\n",
        "print(np.sqrt(arr)) # 각 요소에 제곱근 연산. 여기선 axis 못 씀!!!!!!!!!!"
      ],
      "metadata": {
        "colab": {
          "base_uri": "https://localhost:8080/",
          "height": 0
        },
        "id": "N_qrUSmOoseM",
        "outputId": "293f00d7-f78a-4229-f1f3-7c49118fe028"
      },
      "execution_count": 33,
      "outputs": [
        {
          "output_type": "stream",
          "name": "stdout",
          "text": [
            "[[ 1  2  3  4]\n",
            " [ 5  6  7  8]\n",
            " [ 9 10 11 12]]\n",
            "====================\n",
            "[ 2.5  6.5 10.5]\n",
            "====================\n",
            "3.452052529534663\n",
            "====================\n",
            "[3.26598632 3.26598632 3.26598632 3.26598632]\n",
            "====================\n",
            "[[1.         1.41421356 1.73205081 2.        ]\n",
            " [2.23606798 2.44948974 2.64575131 2.82842712]\n",
            " [3.         3.16227766 3.31662479 3.46410162]]\n"
          ]
        }
      ]
    },
    {
      "cell_type": "markdown",
      "source": [
        "## 연결 함수 : 두 객체 간의 결합을 지원하는 함수\n",
        "- vstack 함수 : vertical. 배열을 수직으로(가로) 붙여 하나의 행렬 생성\n",
        "np.vstack((행렬1, 행렬2))\n",
        "- hstack 함수 : horizontal. 배열을 수평으로(세로) 붙여 하나의 행렬 생성\n",
        "np.hstack((행렬1, 행렬2))"
      ],
      "metadata": {
        "id": "VXtflVZbrXjo"
      }
    },
    {
      "cell_type": "code",
      "source": [
        "# 넘파이는 열 벡터를 표현할 수 없음 (행=0, 열=1인 행렬을 못 만듦) -> 2차원 행렬 형태로 표현해야함\n",
        "v1 = np.array([1,2,3])\n",
        "v2 = np.array([4,5,6])\n",
        "print(np.vstack((v1, v2))) # np.vstack(()) 괄호 두개\n",
        "print(np.hstack((v1, v2))) # np.hstack(()) 괄호 두개\n",
        "print(\"=\"*20)\n",
        "\n",
        "# v1 = np.arange(1,10).reshape(3,3)\n",
        "# v2 = np.arange(10,19).reshape(3,3)\n",
        "# print(np.vstack((v1,v2)))\n",
        "# print(np.hstack((v1,v2)))\n",
        "# print(\"=\"*20)\n",
        "\n",
        "v1 = v1.reshape(-1,1)\n",
        "v2 = v2.reshape(-1,1)\n",
        "print(v1)\n",
        "print(v2)\n",
        "print(\"=\"*20)\n",
        "print(np.hstack((v1, v2))) # 2차원 행렬 형태로 표현한 열 벡터를 hstack으로 연결\n",
        "print(\"=\"*20)\n",
        "\n",
        "v1 = np.array([[2,3], [4,5], [6,7]])\n",
        "v2 = np.array([[8,9], [1,2], [3,4]])\n",
        "print(np.vstack((v1, v2)))\n"
      ],
      "metadata": {
        "colab": {
          "base_uri": "https://localhost:8080/",
          "height": 0
        },
        "id": "qemQm4wwo-oK",
        "outputId": "c83795e1-2377-440b-e8c4-2f3060b71457"
      },
      "execution_count": 49,
      "outputs": [
        {
          "output_type": "stream",
          "name": "stdout",
          "text": [
            "[[1 2 3]\n",
            " [4 5 6]]\n",
            "[1 2 3 4 5 6]\n",
            "====================\n",
            "[[1]\n",
            " [2]\n",
            " [3]]\n",
            "[[4]\n",
            " [5]\n",
            " [6]]\n",
            "====================\n",
            "[[1 4]\n",
            " [2 5]\n",
            " [3 6]]\n",
            "====================\n",
            "[[2 3]\n",
            " [4 5]\n",
            " [6 7]\n",
            " [8 9]\n",
            " [1 2]\n",
            " [3 4]]\n"
          ]
        }
      ]
    },
    {
      "cell_type": "markdown",
      "source": [
        "- concatenate 함수 : 축을 고려하여 두 개의 배열을 결합. np.concatenate((행렬1, 행렬2)), axis=n)\n",
        "<br>\n",
        "스택 계열의 함수와 달리 생성될 배열과 소스가 되는 배열의 __차원__이 같아야 함\n",
        "<br>\n",
        "두 벡터를 결합하고 싶다면, 해당 벡터를 일단 2차원 배열 꼴로 변환 후 행렬로 나타내야 함"
      ],
      "metadata": {
        "id": "kS3LD5Shuj4u"
      }
    },
    {
      "cell_type": "code",
      "source": [
        "# v1과 v2 모두 사실상 행렬이지만 벡터의 형태임\n",
        "v1 = np.array([[1,2,3]])\n",
        "v2 = np.array([[4,5,6]])\n",
        "\n",
        "print(np.concatenate((v1,v2), axis=0)) # vstack과 동일. axis=0으로 행(가로)을 기준으로 연결"
      ],
      "metadata": {
        "colab": {
          "base_uri": "https://localhost:8080/",
          "height": 0
        },
        "id": "w9eaObNtsA36",
        "outputId": "0ac17471-dc05-4203-a32d-6c66a83cf559"
      },
      "execution_count": 54,
      "outputs": [
        {
          "output_type": "stream",
          "name": "stdout",
          "text": [
            "[[1 2 3]\n",
            " [4 5 6]]\n"
          ]
        }
      ]
    },
    {
      "cell_type": "markdown",
      "source": [
        "- .T : 대각선을 기준으로 바꾸는 것. Aij -> Aji 로 바꿈"
      ],
      "metadata": {
        "id": "rudHnkKOygxc"
      }
    },
    {
      "cell_type": "code",
      "source": [
        "v1 = np.array([1,2,3,4]).reshape(2,2)\n",
        "v2 = np.array([[5,6]]).T # .T : 행렬을 대각선을 기준으로 바꾸는 것\n",
        "print(v1)\n",
        "print(\"=\"*20)\n",
        "print(v2)\n",
        "print(\"=\"*20)\n",
        "\n",
        "print(np.concatenate((v1,v2), axis=1)) # hstack과 동일. axis=1로 열(세로)을 기준으로 연결"
      ],
      "metadata": {
        "colab": {
          "base_uri": "https://localhost:8080/",
          "height": 0
        },
        "id": "T0ZeAUyIyAxj",
        "outputId": "f3e0135e-c0b5-48a3-87cd-6c1c08696c61"
      },
      "execution_count": 56,
      "outputs": [
        {
          "output_type": "stream",
          "name": "stdout",
          "text": [
            "[[1 2]\n",
            " [3 4]]\n",
            "====================\n",
            "[[5]\n",
            " [6]]\n",
            "====================\n",
            "[[1 2 5]\n",
            " [3 4 6]]\n"
          ]
        }
      ]
    },
    {
      "cell_type": "markdown",
      "source": [
        "## 사칙연산 함수\n",
        "### - 넘파이는 파이썬과 동일하게 배열 간 사칙연산 지원 -> 행렬과 행렬, 벡터와 벡터 간 사칙연산 가능\n",
        "### - 같은 배열의 구조일 때 요소별로 연산 -> 두 배열의 구조가 동일하다면 같은 인덱스 요소들끼리 연산"
      ],
      "metadata": {
        "id": "uMDQYLtvzlaD"
      }
    },
    {
      "cell_type": "code",
      "source": [
        "x = np.arange(1,7).reshape(2,3)\n",
        "print(x)\n",
        "print(\"=\"*20)\n",
        "print(x+x) # 덧셈\n",
        "print(\"=\"*20)\n",
        "print(x-x) # 뺄셈\n",
        "print(\"=\"*20)\n",
        "print(x/x) # 나눗셈, 몫\n",
        "print(\"=\"*20)\n",
        "print(x**x) # 제곱"
      ],
      "metadata": {
        "colab": {
          "base_uri": "https://localhost:8080/",
          "height": 0
        },
        "id": "p5-MhCwiy0-T",
        "outputId": "5d8b30fc-c012-4206-b434-73f5e72b8297"
      },
      "execution_count": 59,
      "outputs": [
        {
          "output_type": "stream",
          "name": "stdout",
          "text": [
            "[[1 2 3]\n",
            " [4 5 6]]\n",
            "====================\n",
            "[[ 2  4  6]\n",
            " [ 8 10 12]]\n",
            "====================\n",
            "[[0 0 0]\n",
            " [0 0 0]]\n",
            "====================\n",
            "[[1. 1. 1.]\n",
            " [1. 1. 1.]]\n",
            "====================\n",
            "[[    1     4    27]\n",
            " [  256  3125 46656]]\n"
          ]
        }
      ]
    },
    {
      "cell_type": "markdown",
      "source": [
        "### 배열 간의 곱셈에서는 요소별 연산, 벡터의 내적 연산 가능\n",
        "- 벡터의 내적 : 두 배열 간의 곱셈\n",
        "- M\\*L과 L\\*N 내적하면 M*N 크기의 배열이 결과로 출력됨\n",
        "\n",
        "### dot 함수 : 벡터의 내적 연산\n"
      ],
      "metadata": {
        "id": "KcDfz9nA0w0D"
      }
    },
    {
      "cell_type": "code",
      "source": [
        "x = np.arange(1,7).reshape(2,3)\n",
        "y = np.arange(1,7).reshape(3,2)\n",
        "print(x)\n",
        "print(\"=\"*20)\n",
        "print(y)\n",
        "print(\"=\"*20)\n",
        "\n",
        "print(x.dot(y)) # x와 y의 내적 표현print(\"=\"*20)"
      ],
      "metadata": {
        "colab": {
          "base_uri": "https://localhost:8080/",
          "height": 0
        },
        "id": "JTQgIYBH0IMh",
        "outputId": "9390f149-76b0-4fa9-ae96-bc64f6226e57"
      },
      "execution_count": 61,
      "outputs": [
        {
          "output_type": "stream",
          "name": "stdout",
          "text": [
            "[[1 2 3]\n",
            " [4 5 6]]\n",
            "====================\n",
            "[[1 2]\n",
            " [3 4]\n",
            " [5 6]]\n",
            "====================\n",
            "[[22 28]\n",
            " [49 64]]\n"
          ]
        }
      ]
    },
    {
      "cell_type": "markdown",
      "source": [
        "### 브로드캐스팅 연산 : 하나의 행렬과 스칼라 값들 간의 연산이나 행렬과 벡터 간의 연산\n"
      ],
      "metadata": {
        "id": "1vzL-lsD2n6W"
      }
    },
    {
      "cell_type": "code",
      "source": [
        "x = np.arange(1,10).reshape(3,3)\n",
        "print(x)\n",
        "print(\"=\"*20)\n",
        "\n",
        "print(x+10)\n",
        "print(\"=\"*20)\n",
        "\n",
        "print(x-2)\n",
        "print(\"=\"*20)\n",
        "\n",
        "print(x//3)\n",
        "print(\"=\"*20)\n",
        "\n",
        "print(x**2)"
      ],
      "metadata": {
        "colab": {
          "base_uri": "https://localhost:8080/",
          "height": 0
        },
        "id": "jG5j57FC2Ui0",
        "outputId": "bd3679e2-f882-49f3-b8b6-11a447369e95"
      },
      "execution_count": 64,
      "outputs": [
        {
          "output_type": "stream",
          "name": "stdout",
          "text": [
            "[[1 2 3]\n",
            " [4 5 6]\n",
            " [7 8 9]]\n",
            "====================\n",
            "[[11 12 13]\n",
            " [14 15 16]\n",
            " [17 18 19]]\n",
            "====================\n",
            "[[-1  0  1]\n",
            " [ 2  3  4]\n",
            " [ 5  6  7]]\n",
            "====================\n",
            "[[0 0 1]\n",
            " [1 1 2]\n",
            " [2 2 3]]\n",
            "====================\n",
            "[[ 1  4  9]\n",
            " [16 25 36]\n",
            " [49 64 81]]\n"
          ]
        }
      ]
    },
    {
      "cell_type": "code",
      "source": [
        "x = np.arange(1,13).reshape(4,3)\n",
        "print(x)\n",
        "print(\"=\"*20)\n",
        "\n",
        "v = np.arange(10,40,10) # 10부터 40까지 증가값 10 -> [10,20,30]\n",
        "print(v)\n",
        "print(\"=\"*20)\n",
        "\n",
        "print(x+v) # v는 1행 3열이고, x는 4행 3열임. x의 행 개수인 4에 맞춰 v가 4*3 행렬로 복제됨"
      ],
      "metadata": {
        "colab": {
          "base_uri": "https://localhost:8080/",
          "height": 0
        },
        "id": "mVjTZzsW283g",
        "outputId": "a9efa2c6-2cdc-4fb1-eb27-04c4ff494c5c"
      },
      "execution_count": 66,
      "outputs": [
        {
          "output_type": "stream",
          "name": "stdout",
          "text": [
            "[[ 1  2  3]\n",
            " [ 4  5  6]\n",
            " [ 7  8  9]\n",
            " [10 11 12]]\n",
            "====================\n",
            "[10 20 30]\n",
            "====================\n",
            "[[11 22 33]\n",
            " [14 25 36]\n",
            " [17 28 39]\n",
            " [20 31 42]]\n"
          ]
        }
      ]
    },
    {
      "cell_type": "markdown",
      "source": [
        "# 넘파이 텐서 연산의 특징\n",
        "1. (장점)C와 유사한 형태로 메모리를 관리하면서, C와 같은 연산 속도로 계산 가능\n",
        "2. 연결 연산처럼 여러 배열을 붙이는 연산은 리스트에 비해 느림\n"
      ],
      "metadata": {
        "id": "CV_ehYeQKsIp"
      }
    },
    {
      "cell_type": "markdown",
      "source": [
        "## 비교 연산\n",
        "-> 연산 결과는 항상 불린형을 가진 배열로 추출\n",
        "### 브로드캐스팅 비교 연산\n",
        "-> 하나의 스칼라 값과 벡터 간의 비교 연산은 벡터 내 전체요소에 적용\n"
      ],
      "metadata": {
        "id": "1OFSXH6sK6Ad"
      }
    },
    {
      "cell_type": "code",
      "source": [
        "import numpy as np\n",
        "x = np.array([4,3,2,6,8,5])\n",
        "print(x>3) # 요소값들이 3보다 크면 True 작으면 False"
      ],
      "metadata": {
        "colab": {
          "base_uri": "https://localhost:8080/",
          "height": 0
        },
        "id": "dAavtiMuKaGs",
        "outputId": "1da14ad1-1955-46df-ee77-16d70041e343"
      },
      "execution_count": 68,
      "outputs": [
        {
          "output_type": "stream",
          "name": "stdout",
          "text": [
            "[ True False False  True  True  True]\n"
          ]
        }
      ]
    },
    {
      "cell_type": "markdown",
      "source": [
        "### 요소별 비교 연산\n",
        "-> 두개의 배열 간 배열의 구조가 동일한 경우, 같은 위치에 있는 요소들끼리 비교 연산\n",
        "-> [1 > 2,3 > 1,0 > 7]과 같이 연산이 실시된 후 이를 반환"
      ],
      "metadata": {
        "id": "jGh4kgKQLM4m"
      }
    },
    {
      "cell_type": "code",
      "source": [
        "x = np.array([1,3,0])\n",
        "y = np.array([2,1,7])\n",
        "print(x>y) # x>y인 요소값은 True, 작으면 False"
      ],
      "metadata": {
        "colab": {
          "base_uri": "https://localhost:8080/",
          "height": 0
        },
        "id": "IqDYECDtLHdC",
        "outputId": "2599b5c0-e247-4a65-c9aa-66f5e8978618"
      },
      "execution_count": 69,
      "outputs": [
        {
          "output_type": "stream",
          "name": "stdout",
          "text": [
            "[False  True False]\n"
          ]
        }
      ]
    },
    {
      "cell_type": "markdown",
      "source": [
        "## 비교 연산 함수\n",
        "### all, any\n",
        "1. all 함수 : 배열 내부의 모든 값이 참이면 True, 하나라도 참이 아니면 False (AND)\n",
        "2. any 함수 : 배열 내부의 값 중 하나라도 참이면 True, 모두 거짓일 때만 False (OR)"
      ],
      "metadata": {
        "id": "2i5bRwuNLiOj"
      }
    },
    {
      "cell_type": "code",
      "source": [
        "x = np.array([4,6,7,3,2])\n",
        "print(x>3)\n",
        "print(\"=\"*20)\n",
        "\n",
        "print((x>3).all())\n",
        "print((x>3).any())\n",
        "print(\"=\"*20)\n",
        "\n",
        "print((x<10).any())\n",
        "print((x<10).all())\n",
        "print((x>10).any())"
      ],
      "metadata": {
        "colab": {
          "base_uri": "https://localhost:8080/",
          "height": 0
        },
        "id": "D9SYjvCzLfDF",
        "outputId": "dd1123c0-6a89-4358-a8a9-357e11ddd8c3"
      },
      "execution_count": 73,
      "outputs": [
        {
          "output_type": "stream",
          "name": "stdout",
          "text": [
            "[ True  True  True False False]\n",
            "====================\n",
            "False\n",
            "True\n",
            "====================\n",
            "True\n",
            "True\n",
            "False\n"
          ]
        }
      ]
    },
    {
      "cell_type": "markdown",
      "source": [
        "### 인덱스 반환 함수\n",
        "- where 함수 : 배열이 불린형으로 이루어졌을 때 참인 값들의 인덱스를 반환\n",
        "True, False 대신에 참, 거짓인 경우 반환할 값을 지정할 수 있음"
      ],
      "metadata": {
        "id": "QGgVXclmMTN1"
      }
    },
    {
      "cell_type": "code",
      "source": [
        "x = np.array([4,6,7,3,2])\n",
        "print(x>5)\n",
        "\n",
        "print(np.where(x>5)) # x의 요소값이 5보다 큰 것들의 인덱스를 반환함. 배열형태"
      ],
      "metadata": {
        "colab": {
          "base_uri": "https://localhost:8080/",
          "height": 0
        },
        "id": "Qa_HZCSRL04w",
        "outputId": "f8c8c78d-3ceb-452a-c574-cf774b9c1210"
      },
      "execution_count": 74,
      "outputs": [
        {
          "output_type": "stream",
          "name": "stdout",
          "text": [
            "[False  True  True False False]\n",
            "(array([1, 2]),)\n"
          ]
        }
      ]
    },
    {
      "cell_type": "code",
      "source": [
        "x = np.array([4,6,7,3,2])\n",
        "print(np.where(x>5, 10, 20)) # 참일 경우 10 반환, 거짓일 경우 20 반환"
      ],
      "metadata": {
        "colab": {
          "base_uri": "https://localhost:8080/",
          "height": 0
        },
        "id": "KmfRg5hkMt8Y",
        "outputId": "c65542a2-eda4-41fc-f125-1037359c962b"
      },
      "execution_count": 75,
      "outputs": [
        {
          "output_type": "stream",
          "name": "stdout",
          "text": [
            "[20 10 10 20 20]\n"
          ]
        }
      ]
    },
    {
      "cell_type": "markdown",
      "source": [
        "### 정렬된 값의 인덱스를 반환해주는 함수\n",
        "1. argsort(배열명) : 배열 내의 값들을 작은 순서대로 인덱스를 반환\n",
        "2. argmax(배열명) : 배열 내 값들 중 가장 큰 값의 인덱스를 반환\n",
        "3. argmin(배열명) : 배열 내 값들 중 가장 작은 값의 인덱스르 반환\n",
        "\n",
        "-> argmin, argmax 사용 잦음"
      ],
      "metadata": {
        "id": "tfuzH_s_MS7D"
      }
    },
    {
      "cell_type": "code",
      "source": [
        "x = np.array([4,6,7,3,2])\n",
        "print(np.argsort(x))\n",
        "print(np.argmax(x))\n",
        "print(np.argmin(x))"
      ],
      "metadata": {
        "colab": {
          "base_uri": "https://localhost:8080/",
          "height": 0
        },
        "id": "ku9kQuqJNKLR",
        "outputId": "b5d6e192-7c99-479e-cdf8-23a3da209e14"
      },
      "execution_count": 79,
      "outputs": [
        {
          "output_type": "stream",
          "name": "stdout",
          "text": [
            "[4 3 0 1 2]\n",
            "2\n",
            "4\n"
          ]
        }
      ]
    },
    {
      "cell_type": "markdown",
      "source": [
        "## 인덱스를 활용한 데이터 추출\n",
        "### 불린 인덱스 : 배열에 있는 값들을 반환할 특정 조건을 불린형의 배열에 넣어서 추출\n",
        "-> 인덱스에 들어가는 배열은 불린형이어야함\n",
        "-> 불린형 배열과 추출 대상이 되는 배열의 구조가 같아야 함"
      ],
      "metadata": {
        "id": "lB40iGlYNamW"
      }
    },
    {
      "cell_type": "code",
      "source": [
        "x = np.array([4,6,7,3,2])\n",
        "print(x>3)\n",
        "print(\"=\"*20)\n",
        "\n",
        "cond = x>3\n",
        "print(x[cond]) # 배열 x에서 요소값이 3보다 큰 요소들의 인덱스에 맞는 요소값 반환\n",
        "\n",
        "print(x.shape)\n",
        "print(cond.shape)"
      ],
      "metadata": {
        "colab": {
          "base_uri": "https://localhost:8080/",
          "height": 0
        },
        "id": "JtxSNBi9NWt_",
        "outputId": "69f89dbe-2af3-4856-a1cc-5a2f16c9846f"
      },
      "execution_count": 81,
      "outputs": [
        {
          "output_type": "stream",
          "name": "stdout",
          "text": [
            "[ True  True  True False False]\n",
            "====================\n",
            "[4 6 7]\n",
            "(5,)\n",
            "(5,)\n"
          ]
        }
      ]
    },
    {
      "cell_type": "markdown",
      "source": [
        "### 팬시 인덱스 : 정수형 배열의 값을 사용하여 해당 정수의 인덱스에 위치한 값을 반환\n",
        "-> 인덱스 항목에 넣을 배열은 정수로만 구성되어야 함\n",
        "\n",
        "-> 정수 값의 범위는 대상이 되는 배열이 가지는 인덱스의 범위 내 대상이 되는 배열과 인덱스 구조가 같을 필요는 없음"
      ],
      "metadata": {
        "id": "3hdT4J-0N-vr"
      }
    },
    {
      "cell_type": "code",
      "source": [
        "x = np.array([4,6,7,3,2])\n",
        "cond = np.array([1,2,0,2,2,2], int) # cond라는 새로운 배열 생성\n",
        "print(x[cond]) # cond 배열의 요소값을 인덱스로 사용하여 x 배열에서 그 인덱스에 위치한 값을 반환\n",
        "print(\"=\"*20)\n",
        "\n",
        "print(x.take(cond)) # x[cond]와 동일 표현\n",
        "\n",
        "x = np.array([[1,4], [9,16]], int)\n",
        "a = np.array([0,1,1,1,0,0], int)\n",
        "b = np.array([0,0,0,1,1,1], int)\n",
        "print(x[a,b])"
      ],
      "metadata": {
        "colab": {
          "base_uri": "https://localhost:8080/",
          "height": 0
        },
        "id": "rRTr9jeWNyvi",
        "outputId": "89a62af1-9096-4f2b-80ec-5357860000e2"
      },
      "execution_count": 87,
      "outputs": [
        {
          "output_type": "stream",
          "name": "stdout",
          "text": [
            "[6 7 4 7 7 7]\n",
            "====================\n",
            "[6 7 4 7 7 7]\n",
            "[ 1  9  9 16  4  4]\n"
          ]
        }
      ]
    },
    {
      "cell_type": "code",
      "source": [],
      "metadata": {
        "id": "r1ctcRnfOiR_"
      },
      "execution_count": null,
      "outputs": []
    }
  ]
}